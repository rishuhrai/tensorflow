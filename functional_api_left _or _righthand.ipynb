{
 "cells": [
  {
   "cell_type": "code",
   "execution_count": 1,
   "id": "8164f807",
   "metadata": {},
   "outputs": [],
   "source": [
    "import os\n",
    "os.environ['TF_CPP_MIN_LOG_LEVEL'] = '2'\n",
    "\n",
    "import tensorflow as tf\n",
    "from tensorflow import keras\n",
    "import numpy as np"
   ]
  },
  {
   "cell_type": "code",
   "execution_count": 2,
   "id": "e944da00",
   "metadata": {},
   "outputs": [],
   "source": [
    "# Define Functional Model\n",
    "inputs = keras.Input(shape=(28,28))\n",
    "flatten = keras.layers.Flatten()\n",
    "dense1 = keras.layers.Dense(128, activation='relu')\n",
    "\n",
    "dense2 = keras.layers.Dense(10, activation='softmax', name=\"category_output\")\n",
    "dense3 = keras.layers.Dense(1, activation='sigmoid', name=\"leftright_output\")#binary ->sigmoid"
   ]
  },
  {
   "cell_type": "code",
   "execution_count": 3,
   "id": "b6acb31a",
   "metadata": {},
   "outputs": [],
   "source": [
    "x = flatten(inputs)\n",
    "x = dense1(x)\n",
    "outputs1 = dense2(x)\n",
    "outputs2 = dense3(x)\n",
    "\n",
    "model = keras.Model(inputs=inputs, outputs=[outputs1, outputs2], name=\"mnist_model\")"
   ]
  },
  {
   "cell_type": "code",
   "execution_count": 4,
   "id": "3d358023",
   "metadata": {},
   "outputs": [
    {
     "name": "stdout",
     "output_type": "stream",
     "text": [
      "Model: \"mnist_model\"\n",
      "__________________________________________________________________________________________________\n",
      " Layer (type)                   Output Shape         Param #     Connected to                     \n",
      "==================================================================================================\n",
      " input_1 (InputLayer)           [(None, 28, 28)]     0           []                               \n",
      "                                                                                                  \n",
      " flatten (Flatten)              (None, 784)          0           ['input_1[0][0]']                \n",
      "                                                                                                  \n",
      " dense (Dense)                  (None, 128)          100480      ['flatten[0][0]']                \n",
      "                                                                                                  \n",
      " category_output (Dense)        (None, 10)           1290        ['dense[0][0]']                  \n",
      "                                                                                                  \n",
      " leftright_output (Dense)       (None, 1)            129         ['dense[0][0]']                  \n",
      "                                                                                                  \n",
      "==================================================================================================\n",
      "Total params: 101,899\n",
      "Trainable params: 101,899\n",
      "Non-trainable params: 0\n",
      "__________________________________________________________________________________________________\n"
     ]
    }
   ],
   "source": [
    "\n",
    "model.summary()"
   ]
  },
  {
   "cell_type": "code",
   "execution_count": 6,
   "id": "f22ba7e8",
   "metadata": {},
   "outputs": [],
   "source": [
    "# loss and optimizer\n",
    "loss1 = keras.losses.SparseCategoricalCrossentropy(from_logits=False)\n",
    "loss2 = keras.losses.BinaryCrossentropy(from_logits=False)\n",
    "optim = keras.optimizers.Adam(lr=0.001)\n",
    "metrics = [\"accuracy\"]\n",
    "\n",
    "losses = {\n",
    "    \"category_output\": loss1,\n",
    "    \"leftright_output\": loss2,\n",
    "}\n",
    "\n",
    "model.compile(loss=losses, optimizer=optim, metrics=metrics)"
   ]
  },
  {
   "cell_type": "code",
   "execution_count": 7,
   "id": "b7663757",
   "metadata": {},
   "outputs": [
    {
     "name": "stdout",
     "output_type": "stream",
     "text": [
      "uint8 [5 0 4 1 9 2 1 3 1 4 3 5 3 6 1 7 2 8 6 9]\n",
      "uint8 [0 0 0 0 1 0 0 0 0 0 0 0 0 1 0 1 0 1 1 1]\n"
     ]
    }
   ],
   "source": [
    "# create data with 2 labels\n",
    "mnist = keras.datasets.mnist\n",
    "(x_train, y_train), (x_test, y_test) = mnist.load_data()\n",
    "x_train, x_test = x_train / 255.0, x_test / 255.0\n",
    "\n",
    "# 0=left, 1=right each digit greater than 5 is written by  a right hander\n",
    "y_leftright = np.zeros(y_train.shape, dtype=np.uint8)\n",
    "for idx, y in enumerate(y_train):\n",
    "    if y > 5:\n",
    "        y_leftright[idx] = 1\n",
    "\n",
    "print(y_train.dtype, y_train[0:20])\n",
    "print(y_leftright.dtype, y_leftright[0:20])\n",
    "\n",
    "y= {\"category_output\": y_train,\n",
    "    \"leftright_output\": y_leftright }"
   ]
  },
  {
   "cell_type": "code",
   "execution_count": 8,
   "id": "3831dc4b",
   "metadata": {},
   "outputs": [
    {
     "name": "stdout",
     "output_type": "stream",
     "text": [
      "Epoch 1/5\n",
      "938/938 - 5s - loss: 0.5061 - category_output_loss: 0.3171 - leftright_output_loss: 0.1890 - category_output_accuracy: 0.9094 - leftright_output_accuracy: 0.9301 - 5s/epoch - 5ms/step\n",
      "Epoch 2/5\n",
      "938/938 - 4s - loss: 0.2391 - category_output_loss: 0.1432 - leftright_output_loss: 0.0959 - category_output_accuracy: 0.9589 - leftright_output_accuracy: 0.9678 - 4s/epoch - 4ms/step\n",
      "Epoch 3/5\n",
      "938/938 - 3s - loss: 0.1777 - category_output_loss: 0.1023 - leftright_output_loss: 0.0755 - category_output_accuracy: 0.9704 - leftright_output_accuracy: 0.9743 - 3s/epoch - 4ms/step\n",
      "Epoch 4/5\n",
      "938/938 - 3s - loss: 0.1434 - category_output_loss: 0.0795 - leftright_output_loss: 0.0639 - category_output_accuracy: 0.9762 - leftright_output_accuracy: 0.9782 - 3s/epoch - 4ms/step\n",
      "Epoch 5/5\n",
      "938/938 - 3s - loss: 0.1168 - category_output_loss: 0.0626 - leftright_output_loss: 0.0542 - category_output_accuracy: 0.9808 - leftright_output_accuracy: 0.9820 - 3s/epoch - 4ms/step\n"
     ]
    },
    {
     "data": {
      "text/plain": [
       "<keras.callbacks.History at 0x2d557d1ca90>"
      ]
     },
     "execution_count": 8,
     "metadata": {},
     "output_type": "execute_result"
    }
   ],
   "source": [
    "# training\n",
    "model.fit(x_train, y=y, epochs=5,\n",
    "          batch_size=64, verbose=2)"
   ]
  },
  {
   "cell_type": "code",
   "execution_count": 9,
   "id": "eee2a817",
   "metadata": {},
   "outputs": [
    {
     "name": "stdout",
     "output_type": "stream",
     "text": [
      "313/313 [==============================] - 1s 4ms/step\n"
     ]
    },
    {
     "data": {
      "text/plain": [
       "2"
      ]
     },
     "execution_count": 9,
     "metadata": {},
     "output_type": "execute_result"
    }
   ],
   "source": [
    "# list with 2 predictions\n",
    "predictions = model.predict(x_test)\n",
    "len(predictions)"
   ]
  },
  {
   "cell_type": "code",
   "execution_count": 10,
   "id": "8026a26d",
   "metadata": {},
   "outputs": [],
   "source": [
    "prediction_category = predictions[0]\n",
    "prediction_lr = predictions[1]\n",
    "\n",
    "pr_cat = prediction_category[0:20]\n",
    "prediction_lr = prediction_lr[0:20]\n",
    "\n",
    "labels_cat = np.argmax(pr_cat, axis=1)\n",
    "labels_lr = np.array([1 if p >= 0.5 else 0 for p in prediction_lr])"
   ]
  },
  {
   "cell_type": "code",
   "execution_count": 11,
   "id": "419fd24f",
   "metadata": {},
   "outputs": [
    {
     "name": "stdout",
     "output_type": "stream",
     "text": [
      "[7 2 1 0 4 1 4 9 5 9 0 6 9 0 1 5 9 7 3 4]\n",
      "[7 2 1 0 4 1 4 9 5 9 0 6 9 0 1 5 9 7 3 4]\n",
      "[1 0 0 0 0 0 0 1 1 1 0 1 1 0 0 0 1 1 0 0]\n"
     ]
    }
   ],
   "source": [
    "print(y_test[0:20])\n",
    "print(labels_cat)\n",
    "print(labels_lr)"
   ]
  },
  {
   "cell_type": "code",
   "execution_count": null,
   "id": "07225495",
   "metadata": {},
   "outputs": [],
   "source": []
  }
 ],
 "metadata": {
  "kernelspec": {
   "display_name": "Python 3 (ipykernel)",
   "language": "python",
   "name": "python3"
  },
  "language_info": {
   "codemirror_mode": {
    "name": "ipython",
    "version": 3
   },
   "file_extension": ".py",
   "mimetype": "text/x-python",
   "name": "python",
   "nbconvert_exporter": "python",
   "pygments_lexer": "ipython3",
   "version": "3.9.7"
  }
 },
 "nbformat": 4,
 "nbformat_minor": 5
}
